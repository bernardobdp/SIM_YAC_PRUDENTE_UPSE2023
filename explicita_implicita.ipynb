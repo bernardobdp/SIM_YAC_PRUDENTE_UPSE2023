{
  "nbformat": 4,
  "nbformat_minor": 0,
  "metadata": {
    "colab": {
      "provenance": [],
      "authorship_tag": "ABX9TyPC2O7ApLPEU7HmF1drkHYv",
      "include_colab_link": true
    },
    "kernelspec": {
      "name": "python3",
      "display_name": "Python 3"
    },
    "language_info": {
      "name": "python"
    }
  },
  "cells": [
    {
      "cell_type": "markdown",
      "metadata": {
        "id": "view-in-github",
        "colab_type": "text"
      },
      "source": [
        "<a href=\"https://colab.research.google.com/github/bernardobdp/SIM_YAC_PRUDENTE_UPSE2023/blob/main/explicita_implicita.ipynb\" target=\"_parent\"><img src=\"https://colab.research.google.com/assets/colab-badge.svg\" alt=\"Open In Colab\"/></a>"
      ]
    },
    {
      "cell_type": "code",
      "execution_count": 1,
      "metadata": {
        "id": "DXcLuxo1doIi"
      },
      "outputs": [],
      "source": [
        "import numpy as np\n",
        "import math"
      ]
    },
    {
      "cell_type": "code",
      "source": [
        "L=10000 # logintud del reservorio\n",
        "dx=2500\n",
        "Tiempo=100000\n",
        "Dt=1\n",
        "k=50 # permeabilidad en milidarci\n",
        "por=0.2 #porosidad\n",
        "vis=1 #viscocidad centipoise\n",
        "Beta=1 # factor volumetrico\n",
        "CompTotal=1**(-6) #ps1-1 compresibilidad\n",
        "A=200000 #ft^2\n"
      ],
      "metadata": {
        "id": "RL2zL-wAqfWE"
      },
      "execution_count": 2,
      "outputs": []
    },
    {
      "cell_type": "code",
      "source": [
        "#antes debemos calcular la ecuacion de la difusividad\n",
        "#consideramos el valor de alpha"
      ],
      "metadata": {
        "id": "G3r4iD4ZDiyH"
      },
      "execution_count": 3,
      "outputs": []
    },
    {
      "cell_type": "code",
      "source": [
        "Alpha=k/(vis*por*CompTotal)\n",
        "Alpha\n",
        "Eta=(Alpha*Dt)/(dx**2)   #parte de la ecuacion explicita\n",
        "Eta                      #landa o n  eta debe ser menor a 0,5 para que el sistema sea estable"
      ],
      "metadata": {
        "colab": {
          "base_uri": "https://localhost:8080/"
        },
        "id": "6NsUQU77sDTU",
        "outputId": "482e609b-543c-4149-ec38-ea1ff9574b93"
      },
      "execution_count": 4,
      "outputs": [
        {
          "output_type": "execute_result",
          "data": {
            "text/plain": [
              "4e-05"
            ]
          },
          "metadata": {},
          "execution_count": 4
        }
      ]
    },
    {
      "cell_type": "code",
      "source": [
        "#ESQUEMA EXPLICITO"
      ],
      "metadata": {
        "id": "fi1jeom6rSKN"
      },
      "execution_count": 5,
      "outputs": []
    },
    {
      "cell_type": "code",
      "source": [
        "\n",
        "def Presdt(P0,P1,P2,Eta):\n",
        "  Pdt=P1+Eta*(P0-2*P1+P2) #ecuacion del metodo explicito\n",
        "  return(Pdt)\n",
        "#creamos nuestra matriz tendra el numero de nodos, columnas y filas\n",
        "Pexplicita=np.zeros((Tiempo//Dt,L//dx))\n",
        "#Tiempo//Dt division de las filas  L//dx division exacta para las columnas"
      ],
      "metadata": {
        "id": "1MsIWSNivZEb"
      },
      "execution_count": 6,
      "outputs": []
    },
    {
      "cell_type": "code",
      "source": [
        "Pexplicita.shape"
      ],
      "metadata": {
        "id": "ekmTqggrMW3k",
        "outputId": "a54528e8-3778-499a-e10f-cdac2374ca86",
        "colab": {
          "base_uri": "https://localhost:8080/"
        }
      },
      "execution_count": 7,
      "outputs": [
        {
          "output_type": "execute_result",
          "data": {
            "text/plain": [
              "(100000, 4)"
            ]
          },
          "metadata": {},
          "execution_count": 7
        }
      ]
    },
    {
      "cell_type": "code",
      "source": [
        "#Condiciones iniciales\n",
        "Pyac=1000\n",
        "Piz=2000\n",
        "Pder=0\n",
        "Pin=np.ones(L//dx)#primer vector que tendra las condiciones iniciales\n",
        "Pres=np.zeros(L//dx)\n",
        "Pin=Pin*Pyac\n",
        "Pin[0]=Piz # sera la primera celda\n",
        "Pin[len(Pin)-1]=Pder #ultima celda longitud de toda esta celda menos 1\n",
        "Pin"
      ],
      "metadata": {
        "colab": {
          "base_uri": "https://localhost:8080/"
        },
        "id": "Q8MjxiOSyZdL",
        "outputId": "dcc19e14-be2e-4088-f620-a14f950be49a"
      },
      "execution_count": 8,
      "outputs": [
        {
          "output_type": "execute_result",
          "data": {
            "text/plain": [
              "array([2000., 1000., 1000.,    0.])"
            ]
          },
          "metadata": {},
          "execution_count": 8
        }
      ]
    },
    {
      "cell_type": "code",
      "source": [
        "#calculo\n",
        "t=Dt\n",
        "Pexplicita[0]=Pin\n",
        "Pexplicita.shape\n",
        "while t<Tiempo:#ciclo en base al  tiempo lenara fila 1,2,3,4\n",
        "  for i in range(0,len(Pin)-1): #ciclo de espacio nodo1,2,3,4\n",
        "    if i==0:\n",
        "      Pres[i]=Pin[0] #presion incial que empieza en 0\n",
        "    elif i==len(Pin)-1:# calculo de la longitud\n",
        "      Pres[i]=Pin[len(Pin)-1] #se toma los puntos de los extremos\n",
        "    else:\n",
        "      Pres[i]=Presdt(Pin[i-1],Pin[i],Pin[i+1],Eta) #para calcular el resto de valores\n",
        "                          #llamamos a la funcion para calcular las presiones futuras\n",
        "  Pexplicita[t//Dt]=Pres #llena las filas\n",
        "  t=t+Dt\n",
        "  Pin=Pres\n",
        "#solucion explicita solucion con un sistema de ecuaciones\n"
      ],
      "metadata": {
        "id": "32eekz2MyUxG"
      },
      "execution_count": 9,
      "outputs": []
    },
    {
      "cell_type": "code",
      "source": [
        "Pexplicita"
      ],
      "metadata": {
        "colab": {
          "base_uri": "https://localhost:8080/"
        },
        "id": "WAkDw8Vr-Jbe",
        "outputId": "726edcdd-0f1c-43e0-fc4f-7fd02bdadcb5"
      },
      "execution_count": 10,
      "outputs": [
        {
          "output_type": "execute_result",
          "data": {
            "text/plain": [
              "array([[2000.        , 1000.        , 1000.        ,    0.        ],\n",
              "       [2000.        , 1000.04      ,  999.96      ,    0.        ],\n",
              "       [2000.        , 1000.0799952 ,  999.9200064 ,    0.        ],\n",
              "       ...,\n",
              "       [2000.        , 1333.33146859,  666.66889757,    0.        ],\n",
              "       [2000.        , 1333.33146883,  666.66889732,    0.        ],\n",
              "       [2000.        , 1333.33146907,  666.66889706,    0.        ]])"
            ]
          },
          "metadata": {},
          "execution_count": 10
        }
      ]
    },
    {
      "cell_type": "code",
      "source": [
        "#ESQUEMA IMPLICITA"
      ],
      "metadata": {
        "id": "BEiA8LRgDuKh"
      },
      "execution_count": null,
      "outputs": []
    },
    {
      "cell_type": "code",
      "source": [
        "Pimplicita=np.zeros((Tiempo//Dt,L//dx)) #crear matriz que va a tener los resultados\n",
        "\n",
        "Pin=np.ones(L//dx)\n",
        "Pres=np.zeros(L//dx)\n",
        "Pin=Pin*Pyac\n",
        "Pin[0]=Piz\n",
        "Pin[len(Pin)-1]=Pder\n",
        "N=L//dx  # calculo del numero de nodos\n",
        "Matriz_resolucion=np.zeros([N-2,N-2]) #matriz para resolver el sistema de ecuaciones\n",
        "#N-2 son las dimensiones son una matriz cuadrada matriz resolucion tiene 2 nodos menos"
      ],
      "metadata": {
        "id": "ncvGvvDGDzmd"
      },
      "execution_count": 19,
      "outputs": []
    },
    {
      "cell_type": "code",
      "source": [
        "for i in range(N-2): #Matriz de resolucion\n",
        "  Matriz_resolucion[i,i]=1+2*Eta #porque la diagonal de los indices son iguales a i y j posion de la diagonal\n",
        "  if i>0:\n",
        "    Matriz_resolucion[i,i-1]=-Eta # llena todas las casillas de la izquierda\n",
        "  if i<(N-3):\n",
        "    Matriz_resolucion[i,i+1]=-Eta #llena todas las casillas de la derecha\n"
      ],
      "metadata": {
        "id": "im7V14ZIEpCy"
      },
      "execution_count": 20,
      "outputs": []
    },
    {
      "cell_type": "code",
      "source": [
        "Pcal=np.zeros([N-2]) #crea un vector vacio donde guardara valores de N-2\n",
        "Pcal=np.linalg.solve(Matriz_resolucion,Pin[1:-1]) #agarrando los valores iniciales"
      ],
      "metadata": {
        "id": "ePWvzOsrJide"
      },
      "execution_count": 21,
      "outputs": []
    },
    {
      "cell_type": "code",
      "source": [
        "Pcal"
      ],
      "metadata": {
        "colab": {
          "base_uri": "https://localhost:8080/"
        },
        "id": "8wHKInhSMe2c",
        "outputId": "7e1c154e-e8fd-4ceb-ad58-456b4d8f9161"
      },
      "execution_count": 23,
      "outputs": [
        {
          "output_type": "execute_result",
          "data": {
            "text/plain": [
              "array([999.9600016, 999.9600016])"
            ]
          },
          "metadata": {},
          "execution_count": 23
        }
      ]
    },
    {
      "cell_type": "code",
      "source": [
        "Pres=np.concatenate(([Piz],Pcal,[Pder])) #condiciones de fronteras o valores de fronteras\n",
        "Pres"
      ],
      "metadata": {
        "colab": {
          "base_uri": "https://localhost:8080/"
        },
        "id": "YfrRmTVQL-bb",
        "outputId": "a743b3f3-359d-404a-e68f-c013c0fdcc8e"
      },
      "execution_count": 24,
      "outputs": [
        {
          "output_type": "execute_result",
          "data": {
            "text/plain": [
              "array([2000.       ,  999.9600016,  999.9600016,    0.       ])"
            ]
          },
          "metadata": {},
          "execution_count": 24
        }
      ]
    },
    {
      "cell_type": "code",
      "source": [
        "Pimplicita[0]=Pin\n",
        "t=Dt\n",
        "while t<Tiempo: #se crea un ciclo en el tiempo\n",
        "    Pcal=np.linalg.solve(Matriz_resolucion,Pin[1:-1]) #resuelve sistema lineal de matrices\n",
        "    Pres=np.concatenate(([Piz],Pcal,[Pder])) #presion de resultado\n",
        "    Pimplicita[t//Dt]=Pres\n",
        "    Pin=Pres\n",
        "    t=t+Dt"
      ],
      "metadata": {
        "id": "QTVrqbJvNHXL"
      },
      "execution_count": 27,
      "outputs": []
    },
    {
      "cell_type": "code",
      "source": [
        "import matplotlib.pyplot as plt\n",
        "imgplot=plt.imshow(Pexplicita,aspect='auto')\n",
        "plt.colorbar()"
      ],
      "metadata": {
        "id": "3GrRd4VNVh0y",
        "outputId": "87a32d56-d5f4-4c5a-f888-d689c26bc190",
        "colab": {
          "base_uri": "https://localhost:8080/",
          "height": 452
        }
      },
      "execution_count": 28,
      "outputs": [
        {
          "output_type": "execute_result",
          "data": {
            "text/plain": [
              "<matplotlib.colorbar.Colorbar at 0x7f1584b86f80>"
            ]
          },
          "metadata": {},
          "execution_count": 28
        },
        {
          "output_type": "display_data",
          "data": {
            "text/plain": [
              "<Figure size 640x480 with 2 Axes>"
            ],
            "image/png": "[encoded data removed]"
          },
          "metadata": {}
        }
      ]
    },
    {
      "cell_type": "code",
      "source": [
        "import matplotlib.pyplot as plt\n",
        "imgplot=plt.imshow(Pimplicita,aspect='auto')\n",
        "plt.colorbar()"
      ],
      "metadata": {
        "id": "IieIwZmqWqAC",
        "outputId": "3fa890d8-2a28-4353-9cf2-d90099a1b2ec",
        "colab": {
          "base_uri": "https://localhost:8080/",
          "height": 452
        }
      },
      "execution_count": 29,
      "outputs": [
        {
          "output_type": "execute_result",
          "data": {
            "text/plain": [
              "<matplotlib.colorbar.Colorbar at 0x7f15852967a0>"
            ]
          },
          "metadata": {},
          "execution_count": 29
        },
        {
          "output_type": "display_data",
          "data": {
            "text/plain": [
              "<Figure size 640x480 with 2 Axes>"
            ],
            "image/png": "[encoded data removed]"
          },
          "metadata": {}
        }
      ]
    }
  ]
}