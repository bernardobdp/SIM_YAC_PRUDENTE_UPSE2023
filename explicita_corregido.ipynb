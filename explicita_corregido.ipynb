{
  "nbformat": 4,
  "nbformat_minor": 0,
  "metadata": {
    "colab": {
      "provenance": [],
      "authorship_tag": "ABX9TyMfvjkAG0vov4O+0oKHchK0",
      "include_colab_link": true
    },
    "kernelspec": {
      "name": "python3",
      "display_name": "Python 3"
    },
    "language_info": {
      "name": "python"
    }
  },
  "cells": [
    {
      "cell_type": "markdown",
      "metadata": {
        "id": "view-in-github",
        "colab_type": "text"
      },
      "source": [
        "<a href=\"https://colab.research.google.com/github/bernardobdp/SIM_YAC_PRUDENTE_UPSE2023/blob/main/explicita_corregido.ipynb\" target=\"_parent\"><img src=\"https://colab.research.google.com/assets/colab-badge.svg\" alt=\"Open In Colab\"/></a>"
      ]
    },
    {
      "cell_type": "code",
      "execution_count": 1,
      "metadata": {
        "id": "lLEsv7jdRYzu"
      },
      "outputs": [],
      "source": [
        "import numpy as np\n",
        "import math"
      ]
    },
    {
      "cell_type": "code",
      "source": [
        "L=10000\n",
        "dx=2500\n",
        "Tiempo=10000\n",
        "Dt=10\n",
        "k=50 # permeabilidad en milidarci\n",
        "por=0.2 #porosidad\n",
        "vis=1 #viscocidad centipoise\n",
        "Beta=1\n",
        "CompTotal=1**(-6) #ps1-1 compresibilidad\n",
        "A=200000 #ft^2"
      ],
      "metadata": {
        "id": "svGMd7HnRcnL"
      },
      "execution_count": 2,
      "outputs": []
    },
    {
      "cell_type": "code",
      "source": [
        "Alpha=k/(vis*por*CompTotal)\n",
        "Alpha\n",
        "Eta=(Alpha*Dt)/(dx**2) # estabilidad de la ecuacion explicita\n",
        "Eta"
      ],
      "metadata": {
        "colab": {
          "base_uri": "https://localhost:8080/"
        },
        "id": "Ovi85khSR8SJ",
        "outputId": "82ad090e-03eb-4574-8682-c20b703bb799"
      },
      "execution_count": 3,
      "outputs": [
        {
          "output_type": "execute_result",
          "data": {
            "text/plain": [
              "0.0004"
            ]
          },
          "metadata": {},
          "execution_count": 3
        }
      ]
    },
    {
      "cell_type": "code",
      "source": [
        "#Condiciones iniciales\n",
        "Pyac=4000\n",
        "Piz=500\n",
        "Pder=100\n",
        "Pin=np.ones((L//dx)+2)\n",
        "Pres=np.zeros((L//dx)+2)\n",
        "Pres2=np.zeros((L//dx)+2)\n",
        "Pin=Pin*Pyac\n",
        "Pin[0]=2*Piz-Pin[1]\n",
        "Pin[len(Pin)-1]=2*Pder-Pin[len(Pin)-2]\n",
        "Pin"
      ],
      "metadata": {
        "colab": {
          "base_uri": "https://localhost:8080/"
        },
        "id": "sq0xu-RXRj3y",
        "outputId": "24ba2443-86c9-406e-8bd5-c1beefe1dae2"
      },
      "execution_count": 4,
      "outputs": [
        {
          "output_type": "execute_result",
          "data": {
            "text/plain": [
              "array([-3000.,  4000.,  4000.,  4000.,  4000., -3800.])"
            ]
          },
          "metadata": {},
          "execution_count": 4
        }
      ]
    },
    {
      "cell_type": "code",
      "source": [
        "#ESQUEMA IMPLICITO\n",
        "Qimplicita=np.zeros((Tiempo//Dt,(L//dx)))\n",
        "\n",
        "pin=np.ones((L//dx)+2)\n",
        "Qres=np.zeros((L//dx)+2)\n",
        "Pin=Pin*Pyac\n",
        "Pin[0]=Piz\n",
        "Pin[len(Pin)-1]=Pder\n",
        "N=(L//dx)+2\n",
        "Bacumul=A*dx*por*CompTotal/Beta\n",
        "Transmisibilidad=k*A/(vis*Beta*dx)\n",
        "B=np.zeros([N-2,N-2])\n",
        "T=np.zeros([N-2,N-2])\n",
        "Matriz_resolucion=np.zeros([N-2,N-2])"
      ],
      "metadata": {
        "id": "Ddm9iozfR4YT"
      },
      "execution_count": 5,
      "outputs": []
    },
    {
      "cell_type": "code",
      "source": [
        "for i in range(0,N-2):\n",
        "  B[i,i]=Bacumul\n",
        "\n",
        "for i in range(0,N-2): #Matriz de transmisibilidad\n",
        "  T[i,i]=2*Transmisibilidad\n",
        "\n",
        "  if i>0:\n",
        "    T[i,i-1]=-Transmisibilidad\n",
        "  if i<(N-3):\n",
        "    T[i,i+1]=Transmisibilidad\n",
        "T[0,0]=3*Transmisibilidad\n",
        "T[N-3,N-3]=Transmisibilidad"
      ],
      "metadata": {
        "id": "c02Q-n0ySL9-"
      },
      "execution_count": 6,
      "outputs": []
    },
    {
      "cell_type": "code",
      "source": [
        "Matriz_resolucion=np.zeros_like(T)\n",
        "Vector_sol=np.zeros_like(Pin[1:-1])\n",
        "Matriz_resolucion=T+(B/Dt)\n",
        "Vector_sol=np.matmul(B/Dt,Pin[1:-1])\n",
        "Vector_sol=Vector_sol\n",
        "Q=np.zeros_like(Vector_sol)\n",
        "Q[0]=2*Transmisibilidad*Piz\n",
        "Vector_sol=Vector_sol+Q"
      ],
      "metadata": {
        "id": "EfEYE8dGVk-U"
      },
      "execution_count": 7,
      "outputs": []
    },
    {
      "cell_type": "code",
      "source": [
        "Qcal=np.linalg.solve(Matriz_resolucion,Vector_sol)"
      ],
      "metadata": {
        "id": "Vfc0yqhjYiS1"
      },
      "execution_count": 9,
      "outputs": []
    },
    {
      "cell_type": "code",
      "source": [
        "Qcal"
      ],
      "metadata": {
        "colab": {
          "base_uri": "https://localhost:8080/"
        },
        "id": "zCX04DSpYqSQ",
        "outputId": "9cf7b988-9cb4-4507-a41b-dc1086869da0"
      },
      "execution_count": 10,
      "outputs": [
        {
          "output_type": "execute_result",
          "data": {
            "text/plain": [
              "array([15974436.19451525, 15987205.12832714, 15987205.12000169,\n",
              "       15999994.88409436])"
            ]
          },
          "metadata": {},
          "execution_count": 10
        }
      ]
    },
    {
      "cell_type": "code",
      "source": [
        "Qimplicita[0]=Vector_sol\n",
        "t=Dt\n",
        "while t<Tiempo:\n",
        "    Qcal=np.linalg.solve(Matriz_resolucion,Vector_sol)\n",
        "    Qimplicita[t//Dt]=Qcal\n",
        "    Vector_sol=Qcal\n",
        "    t=t+Dt"
      ],
      "metadata": {
        "id": "g5EXJG8casiW"
      },
      "execution_count": 11,
      "outputs": []
    },
    {
      "cell_type": "code",
      "source": [
        "Qimplicita"
      ],
      "metadata": {
        "colab": {
          "base_uri": "https://localhost:8080/"
        },
        "id": "RlZtK7r9cDSz",
        "outputId": "2857ad27-a1f0-4c67-8b2a-a4d9f2b1c05b"
      },
      "execution_count": 12,
      "outputs": [
        {
          "output_type": "execute_result",
          "data": {
            "text/plain": [
              "array([[1.60000004e+14, 1.60000000e+14, 1.60000000e+14, 1.60000000e+14],\n",
              "       [1.59744362e+07, 1.59872051e+07, 1.59872051e+07, 1.59999949e+07],\n",
              "       [1.59489077e+00, 1.59744154e+00, 1.59744154e+00, 1.59999847e+00],\n",
              "       ...,\n",
              "       [0.00000000e+00, 0.00000000e+00, 0.00000000e+00, 0.00000000e+00],\n",
              "       [0.00000000e+00, 0.00000000e+00, 0.00000000e+00, 0.00000000e+00],\n",
              "       [0.00000000e+00, 0.00000000e+00, 0.00000000e+00, 0.00000000e+00]])"
            ]
          },
          "metadata": {},
          "execution_count": 12
        }
      ]
    },
    {
      "cell_type": "code",
      "source": [
        "import matplotlib.pyplot as plt\n",
        "imgplot=plt.imshow(Qimplicita,aspect='auto')\n",
        "plt.colorbar()"
      ],
      "metadata": {
        "colab": {
          "base_uri": "https://localhost:8080/",
          "height": 462
        },
        "id": "0-K2jXmRdmnT",
        "outputId": "ef54f252-7ec6-45b3-c190-160f0d58e3a4"
      },
      "execution_count": 13,
      "outputs": [
        {
          "output_type": "execute_result",
          "data": {
            "text/plain": [
              "<matplotlib.colorbar.Colorbar at 0x7fcbc81c6e00>"
            ]
          },
          "metadata": {},
          "execution_count": 13
        },
        {
          "output_type": "display_data",
          "data": {
            "text/plain": [
              "<Figure size 640x480 with 2 Axes>"
            ],
            "image/png": "[encoded data removed]"
          },
          "metadata": {}
        }
      ]
    }
  ]
}