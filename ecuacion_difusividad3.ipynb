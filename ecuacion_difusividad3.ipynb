{
  "nbformat": 4,
  "nbformat_minor": 0,
  "metadata": {
    "colab": {
      "provenance": [],
      "authorship_tag": "ABX9TyPO/S8rvVMh5DBfjAH9+rB2",
      "include_colab_link": true
    },
    "kernelspec": {
      "name": "python3",
      "display_name": "Python 3"
    },
    "language_info": {
      "name": "python"
    }
  },
  "cells": [
    {
      "cell_type": "markdown",
      "metadata": {
        "id": "view-in-github",
        "colab_type": "text"
      },
      "source": [
        "<a href=\"https://colab.research.google.com/github/bernardobdp/SIM_YAC_PRUDENTE_UPSE2023/blob/main/ecuacion_difusividad3.ipynb\" target=\"_parent\"><img src=\"https://colab.research.google.com/assets/colab-badge.svg\" alt=\"Open In Colab\"/></a>"
      ]
    },
    {
      "cell_type": "code",
      "execution_count": 1,
      "metadata": {
        "id": "9rRl1PVbOdDC"
      },
      "outputs": [],
      "source": [
        "#sumulador ecuacion de la difusividad"
      ]
    },
    {
      "cell_type": "code",
      "source": [
        "import numpy as np\n",
        "import math\n",
        "L=1000\n",
        "dx=100\n",
        "distance=np.arange(0,L+1,dx)\n",
        "P01=np.ones_like(distance)\n",
        "print(P01)"
      ],
      "metadata": {
        "colab": {
          "base_uri": "https://localhost:8080/"
        },
        "id": "_8QHen9JOh78",
        "outputId": "b96f20fb-b8cf-4562-cee3-63f9074341e2"
      },
      "execution_count": 2,
      "outputs": [
        {
          "output_type": "stream",
          "name": "stdout",
          "text": [
            "[1 1 1 1 1 1 1 1 1 1 1]\n"
          ]
        }
      ]
    },
    {
      "cell_type": "code",
      "source": [
        "distance.shape"
      ],
      "metadata": {
        "colab": {
          "base_uri": "https://localhost:8080/"
        },
        "id": "DaXYgaQHNpih",
        "outputId": "88a3a68e-3459-4fa4-ac05-88b858923d89"
      },
      "execution_count": null,
      "outputs": [
        {
          "output_type": "execute_result",
          "data": {
            "text/plain": [
              "(11,)"
            ]
          },
          "metadata": {},
          "execution_count": 120
        }
      ]
    },
    {
      "cell_type": "code",
      "source": [
        "Pyac=4000\n",
        "Pfrontd=5100\n",
        "Pfronti=5000\n",
        "tiempo=100\n",
        "DT=10\n",
        "VectorTiempo=np.arange(0,math.floor(tiempo/DT)*DT,DT)\n",
        "PXX=np.zeros((math.floor(tiempo/DT),len(distance)))\n",
        "\n",
        "Pdt=np.zeros_like(distance)"
      ],
      "metadata": {
        "id": "q_9B2dbJQB7a"
      },
      "execution_count": null,
      "outputs": []
    },
    {
      "cell_type": "code",
      "source": [
        "PXX.shape"
      ],
      "metadata": {
        "colab": {
          "base_uri": "https://localhost:8080/"
        },
        "id": "tbZvk89qe0Iy",
        "outputId": "7cc6bb3f-8daa-4fc5-8616-0e6461c00f0c"
      },
      "execution_count": null,
      "outputs": [
        {
          "output_type": "execute_result",
          "data": {
            "text/plain": [
              "(10, 11)"
            ]
          },
          "metadata": {},
          "execution_count": 139
        }
      ]
    },
    {
      "cell_type": "code",
      "source": [
        "P01=np.ones_like(distance)\n",
        "P01=P01*Pyac\n",
        "P01[0]=Pfronti\n",
        "P01[len(P01)-1]=Pfrontd\n",
        "P0in=P01\n",
        "Pdt=P01\n",
        "t=DT"
      ],
      "metadata": {
        "id": "EXFnZsGyQWUz"
      },
      "execution_count": null,
      "outputs": []
    },
    {
      "cell_type": "code",
      "source": [
        "print(P01)"
      ],
      "metadata": {
        "colab": {
          "base_uri": "https://localhost:8080/"
        },
        "id": "Jm6yIa0ZREas",
        "outputId": "d5e8ad70-773e-4788-eb2c-5c6ff4ef4b40"
      },
      "execution_count": null,
      "outputs": [
        {
          "output_type": "stream",
          "name": "stdout",
          "text": [
            "[5000 4000 4000 4000 4000 4000 4000 4000 4000 4000 5100]\n"
          ]
        }
      ]
    },
    {
      "cell_type": "code",
      "source": [
        "def Presdt(P1,P2,P3,deltat,deltax):\n",
        "  return(((P1-2*P2+P3)/(deltax*deltax))*deltat)+P2"
      ],
      "metadata": {
        "id": "cC7_Xj3mRH9q"
      },
      "execution_count": null,
      "outputs": []
    },
    {
      "cell_type": "code",
      "source": [],
      "metadata": {
        "id": "elgZ9joCfQcY"
      },
      "execution_count": null,
      "outputs": []
    },
    {
      "cell_type": "code",
      "source": [
        "PXX[0]=P01\n",
        "while t<tiempo:\n",
        "     for i in range(0,len(P0in)-1):\n",
        "       if i==0:\n",
        "         Pdt[i]=P0in[0]\n",
        "       elif i==len(P0in)-1:\n",
        "         Pdt[i]=P0in[len(P0in)-1]\n",
        "       else:\n",
        "         Pdt[i]=Presdt(P0in[i-1],P0in[i],P0in[i+1],DT,dx)\n",
        "         PXX[math.floor(t/DT)]=Pdt\n",
        "\n",
        "     t=t+DT\n",
        "     P0in=Pdt\n",
        "     P01=np.append(P01,Pdt)"
      ],
      "metadata": {
        "id": "KRXirRi-SQ7T"
      },
      "execution_count": null,
      "outputs": []
    },
    {
      "cell_type": "code",
      "source": [
        "PXX"
      ],
      "metadata": {
        "colab": {
          "base_uri": "https://localhost:8080/"
        },
        "id": "FaYeZ2lBVJ3v",
        "outputId": "003e209c-6e88-4edf-ce78-b55d8ca3c166"
      },
      "execution_count": null,
      "outputs": [
        {
          "output_type": "execute_result",
          "data": {
            "text/plain": [
              "array([[5000., 4000., 4000., 4000., 4000., 4000., 4000., 4000., 4000.,\n",
              "        4000., 5100.],\n",
              "       [5000., 4001., 4000., 4000., 4000., 4000., 4000., 4000., 4000.,\n",
              "        4001., 5100.],\n",
              "       [5000., 4001., 4000., 4000., 4000., 4000., 4000., 4000., 4000.,\n",
              "        4002., 5100.],\n",
              "       [5000., 4001., 4000., 4000., 4000., 4000., 4000., 4000., 4000.,\n",
              "        4003., 5100.],\n",
              "       [5000., 4001., 4000., 4000., 4000., 4000., 4000., 4000., 4000.,\n",
              "        4004., 5100.],\n",
              "       [5000., 4001., 4000., 4000., 4000., 4000., 4000., 4000., 4000.,\n",
              "        4005., 5100.],\n",
              "       [5000., 4001., 4000., 4000., 4000., 4000., 4000., 4000., 4000.,\n",
              "        4006., 5100.],\n",
              "       [5000., 4001., 4000., 4000., 4000., 4000., 4000., 4000., 4000.,\n",
              "        4007., 5100.],\n",
              "       [5000., 4001., 4000., 4000., 4000., 4000., 4000., 4000., 4000.,\n",
              "        4008., 5100.],\n",
              "       [5000., 4001., 4000., 4000., 4000., 4000., 4000., 4000., 4000.,\n",
              "        4009., 5100.]])"
            ]
          },
          "metadata": {},
          "execution_count": 144
        }
      ]
    },
    {
      "cell_type": "code",
      "source": [
        "PXX.shape"
      ],
      "metadata": {
        "colab": {
          "base_uri": "https://localhost:8080/"
        },
        "id": "8Q64XqcMhIdb",
        "outputId": "c69f0906-10e3-4365-ae3b-204583118fa6"
      },
      "execution_count": null,
      "outputs": [
        {
          "output_type": "execute_result",
          "data": {
            "text/plain": [
              "(10, 11)"
            ]
          },
          "metadata": {},
          "execution_count": 145
        }
      ]
    },
    {
      "cell_type": "code",
      "source": [
        "distance.shape"
      ],
      "metadata": {
        "colab": {
          "base_uri": "https://localhost:8080/"
        },
        "id": "exufDgIShWVH",
        "outputId": "15ad58b3-665b-4770-990d-a1d436eae126"
      },
      "execution_count": null,
      "outputs": [
        {
          "output_type": "execute_result",
          "data": {
            "text/plain": [
              "(11,)"
            ]
          },
          "metadata": {},
          "execution_count": 146
        }
      ]
    },
    {
      "cell_type": "code",
      "source": [
        "import matplotlib.pyplot as plt\n",
        "\n",
        "imgplot = plt.imshow(PXX,aspect='auto')\n",
        "plt.colorbar()\n"
      ],
      "metadata": {
        "colab": {
          "base_uri": "https://localhost:8080/",
          "height": 447
        },
        "id": "gQAmiCX6heov",
        "outputId": "9b94bc96-55fb-4b99-f40e-481bd4d61984"
      },
      "execution_count": null,
      "outputs": [
        {
          "output_type": "execute_result",
          "data": {
            "text/plain": [
              "<matplotlib.colorbar.Colorbar at 0x7f706bc53b80>"
            ]
          },
          "metadata": {},
          "execution_count": 147
        },
        {
          "output_type": "display_data",
          "data": {
            "text/plain": [
              "<Figure size 640x480 with 2 Axes>"
            ],
            "image/png": "[encoded data removed]"
          },
          "metadata": {}
        }
      ]
    },
    {
      "cell_type": "code",
      "source": [
        "c=plt.pcolormesh(distance,VectorTiempo,PXX)\n",
        "plt.colorbar(c)\n",
        "\n",
        "plt.title('Distribucion de Presiones', fontweight=\"bold\")\n",
        "plt.show()"
      ],
      "metadata": {
        "colab": {
          "base_uri": "https://localhost:8080/",
          "height": 452
        },
        "id": "9lwD4ihgjV2D",
        "outputId": "24a80741-f3b6-477d-f735-360921d18a5f"
      },
      "execution_count": null,
      "outputs": [
        {
          "output_type": "display_data",
          "data": {
            "text/plain": [
              "<Figure size 640x480 with 2 Axes>"
            ],
            "image/png": "[encoded data removed]"
          },
          "metadata": {}
        }
      ]
    }
  ]
}