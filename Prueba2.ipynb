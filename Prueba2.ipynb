{
  "nbformat": 4,
  "nbformat_minor": 0,
  "metadata": {
    "colab": {
      "provenance": [],
      "authorship_tag": "ABX9TyNi78o4/Li4vrX2Tit16D9c",
      "include_colab_link": true
    },
    "kernelspec": {
      "name": "python3",
      "display_name": "Python 3"
    },
    "language_info": {
      "name": "python"
    }
  },
  "cells": [
    {
      "cell_type": "markdown",
      "metadata": {
        "id": "view-in-github",
        "colab_type": "text"
      },
      "source": [
        "<a href=\"https://colab.research.google.com/github/bernardobdp/SIM_YAC_PRUDENTE_UPSE2023/blob/main/Prueba2.ipynb\" target=\"_parent\"><img src=\"https://colab.research.google.com/assets/colab-badge.svg\" alt=\"Open In Colab\"/></a>"
      ]
    },
    {
      "cell_type": "code",
      "execution_count": 66,
      "metadata": {
        "id": "DXcLuxo1doIi"
      },
      "outputs": [],
      "source": [
        "import numpy as np\n",
        "import math"
      ]
    },
    {
      "cell_type": "code",
      "source": [
        "L=10000\n",
        "dx=2500\n",
        "Tiempo=100000\n",
        "Dt=1\n",
        "k=50 # permeabilidad en milidarci\n",
        "por=0.2 #porosidad\n",
        "vis=1 #viscocidad centipoise\n",
        "Beta=1\n",
        "CompTotal=1**(-6) #ps1-1 compresibilidad\n",
        "A=200000 #ft^2\n"
      ],
      "metadata": {
        "id": "RL2zL-wAqfWE"
      },
      "execution_count": 68,
      "outputs": []
    },
    {
      "cell_type": "code",
      "source": [
        "Alpha=k/(vis*por*CompTotal)\n",
        "Alpha\n",
        "Eta=(Alpha*Dt)/(dx**2)\n",
        "Eta"
      ],
      "metadata": {
        "colab": {
          "base_uri": "https://localhost:8080/"
        },
        "id": "6NsUQU77sDTU",
        "outputId": "d4002a6b-221d-498b-d6d1-92eaebaa551d"
      },
      "execution_count": 69,
      "outputs": [
        {
          "output_type": "execute_result",
          "data": {
            "text/plain": [
              "4e-05"
            ]
          },
          "metadata": {},
          "execution_count": 69
        }
      ]
    },
    {
      "cell_type": "code",
      "source": [
        "#ESQUEMA EXPLICITO"
      ],
      "metadata": {
        "id": "fi1jeom6rSKN"
      },
      "execution_count": null,
      "outputs": []
    },
    {
      "cell_type": "code",
      "source": [
        "\n",
        "def Presdt(P0,P1,P2,Eta):\n",
        "  Pdt=P1+Eta*(P0-2*P1+P2)\n",
        "  return(Pdt)\n",
        "\n",
        "Pexplicita=np.zeros((Tiempo//Dt,L//dx))#division exacta para las colummnas\n"
      ],
      "metadata": {
        "id": "1MsIWSNivZEb"
      },
      "execution_count": 70,
      "outputs": []
    },
    {
      "cell_type": "code",
      "source": [
        "#Condiciones iniciales\n",
        "Pyac=1000\n",
        "Piz=2000\n",
        "Pder=0\n",
        "Pin=np.ones(L//dx)\n",
        "Pres=np.zeros(L//dx)\n",
        "Pin=Pin*Pyac\n",
        "Pin[0]=Piz\n",
        "Pin[len(Pin)-1]=Pder\n",
        "Pin"
      ],
      "metadata": {
        "colab": {
          "base_uri": "https://localhost:8080/"
        },
        "id": "Q8MjxiOSyZdL",
        "outputId": "84757d28-4e03-4cb6-a078-0c27dc4bfca9"
      },
      "execution_count": 71,
      "outputs": [
        {
          "output_type": "execute_result",
          "data": {
            "text/plain": [
              "array([2000., 1000., 1000.,    0.])"
            ]
          },
          "metadata": {},
          "execution_count": 71
        }
      ]
    },
    {
      "cell_type": "code",
      "source": [
        "t=Dt\n",
        "Pexplicita[0]=Pin\n",
        "Pexplicita.shape\n",
        "while t<Tiempo:#ciclo de tiempo\n",
        "  for i in range(0,len(Pin)-1): #ciclo de espacio \n",
        "    if i==0:\n",
        "      Pres[i]=Pin[0]\n",
        "    elif i==len(Pin)-1:\n",
        "      Pres[i]=Pin[len(Pin)-1]\n",
        "    else:\n",
        "      Pres[i]=Presdt(Pin[i-1],Pin[i],Pin[i+1],Eta)\n",
        "  Pexplicita[t//Dt]=Pres\n",
        "  t=t+Dt\n",
        "  Pin=Pres \n",
        "#solucion explicita solucion con un sistema de ecuaciones\n"
      ],
      "metadata": {
        "id": "32eekz2MyUxG"
      },
      "execution_count": 72,
      "outputs": []
    },
    {
      "cell_type": "code",
      "source": [
        "Pexplicita"
      ],
      "metadata": {
        "colab": {
          "base_uri": "https://localhost:8080/"
        },
        "id": "WAkDw8Vr-Jbe",
        "outputId": "b893f517-f3c0-41ed-f5f1-8d4a715177fb"
      },
      "execution_count": 73,
      "outputs": [
        {
          "output_type": "execute_result",
          "data": {
            "text/plain": [
              "array([[2000.        , 1000.        , 1000.        ,    0.        ],\n",
              "       [2000.        , 1000.04      ,  999.96      ,    0.        ],\n",
              "       [2000.        , 1000.0799952 ,  999.9200064 ,    0.        ],\n",
              "       ...,\n",
              "       [2000.        , 1333.33146859,  666.66889757,    0.        ],\n",
              "       [2000.        , 1333.33146883,  666.66889732,    0.        ],\n",
              "       [2000.        , 1333.33146907,  666.66889706,    0.        ]])"
            ]
          },
          "metadata": {},
          "execution_count": 73
        }
      ]
    },
    {
      "cell_type": "code",
      "source": [
        "#ESQUEMA IMPLICITA"
      ],
      "metadata": {
        "id": "BEiA8LRgDuKh"
      },
      "execution_count": null,
      "outputs": []
    },
    {
      "cell_type": "code",
      "source": [
        "Pimplicita=np.zeros((Tiempo//Dt,L//dx))\n",
        "\n",
        "Pin=np.ones(L//dx)\n",
        "Pres=np.zeros(L//dx)\n",
        "Pin=Pin*Pyac\n",
        "Pin[0]=Piz\n",
        "Pin[len(Pin)-1]=Pder\n",
        "N=L//dx\n",
        "Matriz_resolucion=np.zeros([N-2,N-2])\n"
      ],
      "metadata": {
        "id": "ncvGvvDGDzmd"
      },
      "execution_count": 74,
      "outputs": []
    },
    {
      "cell_type": "code",
      "source": [
        "for i in range(N-2): #Matriz de resolucion \n",
        "  Matriz_resolucion[i,i]=1+2*Eta #porque la diagonal de los indices son iguales a i y j posion de la diagonal\n",
        "  if i>0:\n",
        "    Matriz_resolucion[i,i-1]=-Eta # llena todas las casillas de la izquierda\n",
        "  if i<(N-3):\n",
        "    Matriz_resolucion[i,i+1]=-Eta #llena todas las casillas de la derecha\n",
        "   "
      ],
      "metadata": {
        "id": "im7V14ZIEpCy"
      },
      "execution_count": 75,
      "outputs": []
    },
    {
      "cell_type": "code",
      "source": [
        "Pcal=np.zeros([N-2])\n",
        "Pcal=np.linalg.solve(Matriz_resolucion,Pin[1:-1])"
      ],
      "metadata": {
        "id": "ePWvzOsrJide"
      },
      "execution_count": 76,
      "outputs": []
    },
    {
      "cell_type": "code",
      "source": [
        "Pcal"
      ],
      "metadata": {
        "colab": {
          "base_uri": "https://localhost:8080/"
        },
        "id": "8wHKInhSMe2c",
        "outputId": "2640694f-a0f4-4e39-f64a-0491e83d2407"
      },
      "execution_count": 77,
      "outputs": [
        {
          "output_type": "execute_result",
          "data": {
            "text/plain": [
              "array([999.9600016, 999.9600016])"
            ]
          },
          "metadata": {},
          "execution_count": 77
        }
      ]
    },
    {
      "cell_type": "code",
      "source": [
        "Pres=np.concatenate(([Piz],Pcal,[Pder]))\n",
        "Pres"
      ],
      "metadata": {
        "colab": {
          "base_uri": "https://localhost:8080/"
        },
        "id": "YfrRmTVQL-bb",
        "outputId": "3934e36c-eab7-4e2d-897f-a386888b394e"
      },
      "execution_count": 87,
      "outputs": [
        {
          "output_type": "execute_result",
          "data": {
            "text/plain": [
              "([2000], array([999.9600016, 999.9600016]), [0])"
            ]
          },
          "metadata": {},
          "execution_count": 87
        }
      ]
    },
    {
      "cell_type": "code",
      "source": [
        "Pimplicita[0]=Pin\n",
        "t=Dt\n",
        "while t<Tiempo: #ciclo en el tiempo\n",
        "    Pcal=np.linalg.solve(Matriz_resolucion,Pin[1:-1])\n",
        "    Pres=np.concatenate=(([Piz],Pcal,[Pder]))\n",
        "    Pimplicita[t//Dt]=Pres\n",
        "    Pin=Pres\n",
        "    t=t+Dt"
      ],
      "metadata": {
        "colab": {
          "base_uri": "https://localhost:8080/",
          "height": 235
        },
        "id": "QTVrqbJvNHXL",
        "outputId": "e0748564-6a90-4796-9e31-d03f55b941d8"
      },
      "execution_count": 88,
      "outputs": [
        {
          "output_type": "error",
          "ename": "ValueError",
          "evalue": "ignored",
          "traceback": [
            "\u001b[0;31m---------------------------------------------------------------------------\u001b[0m",
            "\u001b[0;31mValueError\u001b[0m                                Traceback (most recent call last)",
            "\u001b[0;32m<ipython-input-88-61bf6aad02c8>\u001b[0m in \u001b[0;36m<cell line: 3>\u001b[0;34m()\u001b[0m\n\u001b[1;32m      4\u001b[0m     \u001b[0mPcal\u001b[0m\u001b[0;34m=\u001b[0m\u001b[0mnp\u001b[0m\u001b[0;34m.\u001b[0m\u001b[0mlinalg\u001b[0m\u001b[0;34m.\u001b[0m\u001b[0msolve\u001b[0m\u001b[0;34m(\u001b[0m\u001b[0mMatriz_resolucion\u001b[0m\u001b[0;34m,\u001b[0m\u001b[0mPin\u001b[0m\u001b[0;34m[\u001b[0m\u001b[0;36m1\u001b[0m\u001b[0;34m:\u001b[0m\u001b[0;34m-\u001b[0m\u001b[0;36m1\u001b[0m\u001b[0;34m]\u001b[0m\u001b[0;34m)\u001b[0m\u001b[0;34m\u001b[0m\u001b[0;34m\u001b[0m\u001b[0m\n\u001b[1;32m      5\u001b[0m     \u001b[0mPres\u001b[0m\u001b[0;34m=\u001b[0m\u001b[0mnp\u001b[0m\u001b[0;34m.\u001b[0m\u001b[0mconcatenate\u001b[0m\u001b[0;34m=\u001b[0m\u001b[0;34m(\u001b[0m\u001b[0;34m(\u001b[0m\u001b[0;34m[\u001b[0m\u001b[0mPiz\u001b[0m\u001b[0;34m]\u001b[0m\u001b[0;34m,\u001b[0m\u001b[0mPcal\u001b[0m\u001b[0;34m,\u001b[0m\u001b[0;34m[\u001b[0m\u001b[0mPder\u001b[0m\u001b[0;34m]\u001b[0m\u001b[0;34m)\u001b[0m\u001b[0;34m)\u001b[0m\u001b[0;34m\u001b[0m\u001b[0;34m\u001b[0m\u001b[0m\n\u001b[0;32m----> 6\u001b[0;31m     \u001b[0mPimplicita\u001b[0m\u001b[0;34m[\u001b[0m\u001b[0mt\u001b[0m\u001b[0;34m//\u001b[0m\u001b[0mDt\u001b[0m\u001b[0;34m]\u001b[0m\u001b[0;34m=\u001b[0m\u001b[0mPres\u001b[0m\u001b[0;34m\u001b[0m\u001b[0;34m\u001b[0m\u001b[0m\n\u001b[0m\u001b[1;32m      7\u001b[0m     \u001b[0mPin\u001b[0m\u001b[0;34m=\u001b[0m\u001b[0mPres\u001b[0m\u001b[0;34m\u001b[0m\u001b[0;34m\u001b[0m\u001b[0m\n\u001b[1;32m      8\u001b[0m     \u001b[0mt\u001b[0m\u001b[0;34m=\u001b[0m\u001b[0mt\u001b[0m\u001b[0;34m+\u001b[0m\u001b[0mDt\u001b[0m\u001b[0;34m\u001b[0m\u001b[0;34m\u001b[0m\u001b[0m\n",
            "\u001b[0;31mValueError\u001b[0m: setting an array element with a sequence. The requested array would exceed the maximum number of dimension of 1."
          ]
        }
      ]
    }
  ]
}